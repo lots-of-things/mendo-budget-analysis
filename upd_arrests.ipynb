{
 "cells": [
  {
   "cell_type": "markdown",
   "metadata": {},
   "source": [
    "# Ukiah Arrests Data cleanup and analysis\n",
    "Source: [Ukiah arrests FOIA data](https://www.muckrock.com/foi/fort-bragg-3216/mendocino-county-law-enforcement-data-calls-for-service-arrests-complaints-fort-bragg-police-department-101427/)\n",
    "- I converted to a messy excel file using https://pdftables.com/\n",
    "- I then used `ukiah_pd.py` to clean up most of the messy excel\n",
    "- Finally, we did manual data QA in a spreadsheet to remove any other errors.\n",
    "\n",
    "### Subset charges to most serious offense per arrest\n",
    "Each booking can have multiple charges per arrest. For analysis, it is more useful to focus on only the owrst charge per arrest. The next section subsets the charge to the one with the lowest sum code according to ____ (some organization)"
   ]
  },
  {
   "cell_type": "code",
   "execution_count": 138,
   "metadata": {},
   "outputs": [],
   "source": [
    "import pandas as pd\n",
    "import numpy as np\n",
    "\n",
    "data = pd.read_csv('Ukiah_PD_Arrests_cleaned.csv')\n",
    "codes = pd.read_csv('le_code.csv')\n",
    "replace = data['Age'].isin(data['Race'].unique().tolist())\n",
    "# data.loc[replace]\n",
    "data.loc[replace,'Race']=data.loc[replace,'Age']\n",
    "data.loc[replace,'Age']=np.NaN\n",
    "data['Age']=pd.to_numeric(data['Age'])\n",
    "def clean_charge(x):\n",
    "    if x[-3:] in (' PC',' HS',' VC',' FG',' BP','UCC', 'CVC'):\n",
    "        return x[:-3]\n",
    "    return x\n",
    "data['Charge'] = data['Charge'].apply(clean_charge).str.replace(' ','')\n",
    "data['Felony/Misdemeanor'] = data['Felony/Misdemeanor'].str[:1]\n",
    "codes['code_section_cleaned']=codes['Code\\n Section'].str.replace(' ','')\n",
    "codes['Sum_Code']=codes['Sum\\n Code']\n",
    "codes['Offense_Level']=codes['Off\\nLevel']\n",
    "data['Booking#']=data['Case Number']+'-'+data['Suspect Number'].astype(str)"
   ]
  },
  {
   "cell_type": "code",
   "execution_count": 139,
   "metadata": {},
   "outputs": [
    {
     "data": {
      "text/html": [
       "<div>\n",
       "<style scoped>\n",
       "    .dataframe tbody tr th:only-of-type {\n",
       "        vertical-align: middle;\n",
       "    }\n",
       "\n",
       "    .dataframe tbody tr th {\n",
       "        vertical-align: top;\n",
       "    }\n",
       "\n",
       "    .dataframe thead th {\n",
       "        text-align: right;\n",
       "    }\n",
       "</style>\n",
       "<table border=\"1\" class=\"dataframe\">\n",
       "  <thead>\n",
       "    <tr style=\"text-align: right;\">\n",
       "      <th></th>\n",
       "      <th>Charge</th>\n",
       "      <th>Felony/Misdemeanor</th>\n",
       "      <th>Age</th>\n",
       "      <th>Race</th>\n",
       "      <th>Case Number</th>\n",
       "      <th>Suspect Number</th>\n",
       "      <th>Booking#</th>\n",
       "    </tr>\n",
       "  </thead>\n",
       "  <tbody>\n",
       "    <tr>\n",
       "      <th>0</th>\n",
       "      <td>211</td>\n",
       "      <td>F</td>\n",
       "      <td>20.0</td>\n",
       "      <td>W</td>\n",
       "      <td>18-3171</td>\n",
       "      <td>1</td>\n",
       "      <td>18-3171-1</td>\n",
       "    </tr>\n",
       "    <tr>\n",
       "      <th>1</th>\n",
       "      <td>209(B)</td>\n",
       "      <td>F</td>\n",
       "      <td>20.0</td>\n",
       "      <td>W</td>\n",
       "      <td>18-3171</td>\n",
       "      <td>1</td>\n",
       "      <td>18-3171-1</td>\n",
       "    </tr>\n",
       "    <tr>\n",
       "      <th>2</th>\n",
       "      <td>236</td>\n",
       "      <td>M</td>\n",
       "      <td>20.0</td>\n",
       "      <td>W</td>\n",
       "      <td>18-3171</td>\n",
       "      <td>1</td>\n",
       "      <td>18-3171-1</td>\n",
       "    </tr>\n",
       "    <tr>\n",
       "      <th>3</th>\n",
       "      <td>212.5(B)</td>\n",
       "      <td>F</td>\n",
       "      <td>20.0</td>\n",
       "      <td>W</td>\n",
       "      <td>18-3171</td>\n",
       "      <td>1</td>\n",
       "      <td>18-3171-1</td>\n",
       "    </tr>\n",
       "    <tr>\n",
       "      <th>4</th>\n",
       "      <td>272(a)(1)</td>\n",
       "      <td>F</td>\n",
       "      <td>20.0</td>\n",
       "      <td>W</td>\n",
       "      <td>18-3171</td>\n",
       "      <td>1</td>\n",
       "      <td>18-3171-1</td>\n",
       "    </tr>\n",
       "  </tbody>\n",
       "</table>\n",
       "</div>"
      ],
      "text/plain": [
       "      Charge Felony/Misdemeanor   Age Race Case Number  Suspect Number  \\\n",
       "0        211                  F  20.0    W     18-3171               1   \n",
       "1     209(B)                  F  20.0    W     18-3171               1   \n",
       "2        236                  M  20.0    W     18-3171               1   \n",
       "3   212.5(B)                  F  20.0    W     18-3171               1   \n",
       "4  272(a)(1)                  F  20.0    W     18-3171               1   \n",
       "\n",
       "    Booking#  \n",
       "0  18-3171-1  \n",
       "1  18-3171-1  \n",
       "2  18-3171-1  \n",
       "3  18-3171-1  \n",
       "4  18-3171-1  "
      ]
     },
     "execution_count": 139,
     "metadata": {},
     "output_type": "execute_result"
    }
   ],
   "source": [
    "data.head()"
   ]
  },
  {
   "cell_type": "code",
   "execution_count": 140,
   "metadata": {},
   "outputs": [
    {
     "data": {
      "text/plain": [
       "(A)    731\n",
       "R/M    647\n",
       "3.2    486\n",
       "(F)    370\n",
       "(1)    195\n",
       "364    136\n",
       "(B)    131\n",
       "R/F    116\n",
       "1.6     91\n",
       "056     84\n",
       "(M)     56\n",
       "(a)     52\n",
       "652     31\n",
       "(D)     25\n",
       "(4)     24\n",
       "459     23\n",
       "083     20\n",
       "081     20\n",
       "310     20\n",
       "242     19\n",
       "422     17\n",
       "69      16\n",
       "(2)     12\n",
       "211     11\n",
       "000     10\n",
       "(b)     10\n",
       "2.1      9\n",
       "378      8\n",
       "(H)      8\n",
       "(e)      7\n",
       "      ... \n",
       "155      2\n",
       "(3)      2\n",
       "32       2\n",
       "350      2\n",
       "488      2\n",
       "(c)      2\n",
       "9.5      2\n",
       "ION      2\n",
       "25       1\n",
       "203      1\n",
       "153      1\n",
       "47       1\n",
       "3PC      1\n",
       "29A      1\n",
       "84G      1\n",
       "485      1\n",
       ")WI      1\n",
       "555      1\n",
       "573      1\n",
       "EDC      1\n",
       "220      1\n",
       "240      1\n",
       "A)1      1\n",
       "107      1\n",
       "466      1\n",
       "35       1\n",
       "648      1\n",
       "351      1\n",
       "8.5      1\n",
       "84e      1\n",
       "Name: Charge, Length: 78, dtype: int64"
      ]
     },
     "execution_count": 140,
     "metadata": {},
     "output_type": "execute_result"
    }
   ],
   "source": [
    "data['Charge'].str[-3:].value_counts()"
   ]
  },
  {
   "cell_type": "code",
   "execution_count": 144,
   "metadata": {},
   "outputs": [],
   "source": [
    "\n",
    "# REFORMAT CODE TABLE TO MATCH DATA\n",
    "\n",
    "# TAKE ONY THE LOWEST SUM CODE FOR EACH CODE\n",
    "codes_clean = codes[['code_section_cleaned', 'Offense_Level','Sum_Code']].drop_duplicates().dropna()\n",
    "codes_clean = codes_clean.loc[codes_clean.groupby(['code_section_cleaned','Offense_Level'])['Sum_Code'].idxmin()]\n",
    "\n",
    "# SOME DATA CLEANUP\n",
    "# data.loc[(data['Code']=='853.7'),'Felony/Misdemeanor']='M'\n",
    "# data.loc[(data['Code']=='23152(A)'),'Felony/Misdemeanor']='M'\n",
    "# data.loc[(data['Code']=='12022.1'),'Felony/Misdemeanor']='F'\n",
    "\n",
    "# # JOIN DATA AND CODES\n",
    "tst = data.merge(codes_clean, left_on=['Charge','Felony/Misdemeanor'], right_on=['code_section_cleaned','Offense_Level'], how='left')\n",
    "# # IF CODE NOT PRESENT SET TO -1\n",
    "tst.loc[tst['Sum_Code'].isnull(),'Sum_Code'] = -1\n",
    "\n",
    "def sum_code_fix(x):\n",
    "    if x['Felony/Misdemeanor']=='I':\n",
    "        return 99\n",
    "    if x['Felony/Misdemeanor']=='F':\n",
    "        if x['Charge']=='209(B)':\n",
    "            return 7\n",
    "        if x['Charge']=='666':\n",
    "            return 9\n",
    "        if x['Charge'] in ['1203.2','1203.2(A)','12022.1']:\n",
    "            return 28\n",
    "    if x['Felony/Misdemeanor']=='M':\n",
    "        if x['Charge']=='1203.2':\n",
    "            return 67\n",
    "        if x['Charge'] in ['23578', '23540']:\n",
    "            return 51\n",
    "        if x['Charge'] in ['20002','20002(A)']:\n",
    "            return 52\n",
    "        if x['Charge'] in ['484','484(A)/488','666/484(A)','666/484','6646/484']:\n",
    "            return 31\n",
    "        if x['Charge'].startswith('11357'):\n",
    "            return 31\n",
    "        if x['Charge']=='11550':\n",
    "            return 36\n",
    "        if x['Charge']=='23103':\n",
    "            return 53\n",
    "        if x['Charge']=='6081':\n",
    "            return 60\n",
    "        if x['Charge'].startswith('9.68.') or x['Charge'].startswith('09.68.') or (x['Charge']=='1170.12'):\n",
    "            return 100\n",
    "    return x['Sum_Code']\n",
    "\n",
    "\n",
    "tst['Sum_Code_Fix'] = tst.apply(sum_code_fix, axis=1)\n",
    "tst.loc[tst['Sum_Code_Fix']==-1,'Sum_Code_Fix']=99\n",
    "\n",
    "# TAKE ONLY THE ROW WITH THE LOWEST SUM CODE\n",
    "subset_tst = tst.loc[tst.groupby('Booking#')['Sum_Code_Fix'].idxmin()]\n",
    "\n",
    "# MAKE SURE 1 OUTPUT PER BOOKING\n",
    "assert subset_tst.shape[0]==tst['Booking#'].unique().shape[0]\n",
    "\n",
    "# SAVE TO FILE\n",
    "subset_tst.to_csv('upd_19_subset_worst_offense.csv',index=False)"
   ]
  },
  {
   "cell_type": "code",
   "execution_count": 145,
   "metadata": {},
   "outputs": [
    {
     "data": {
      "text/plain": [
       "Series([], Name: Charge, dtype: int64)"
      ]
     },
     "execution_count": 145,
     "metadata": {},
     "output_type": "execute_result"
    }
   ],
   "source": [
    "tst.loc[tst['Sum_Code_Fix']==-1,'Charge'].value_counts()"
   ]
  },
  {
   "cell_type": "code",
   "execution_count": 149,
   "metadata": {},
   "outputs": [
    {
     "data": {
      "text/plain": [
       "W    0\n",
       "H    0\n",
       "B    0\n",
       "A    0\n",
       "I    0\n",
       "O    0\n",
       "dtype: int64"
      ]
     },
     "execution_count": 149,
     "metadata": {},
     "output_type": "execute_result"
    }
   ],
   "source": [
    "fb_demo"
   ]
  },
  {
   "cell_type": "code",
   "execution_count": 152,
   "metadata": {},
   "outputs": [
    {
     "name": "stderr",
     "output_type": "stream",
     "text": [
      "/home/stedn/.local/lib/python2.7/site-packages/ipykernel_launcher.py:3: FutureWarning: Sorting because non-concatenation axis is not aligned. A future version\n",
      "of pandas will change to not sort by default.\n",
      "\n",
      "To accept the future behavior, pass 'sort=False'.\n",
      "\n",
      "To retain the current behavior and silence the warning, pass 'sort=True'.\n",
      "\n",
      "  This is separate from the ipykernel package so we can avoid doing imports until\n"
     ]
    },
    {
     "data": {
      "text/plain": [
       "Text(0,0.5,u'Percentage By Race')"
      ]
     },
     "execution_count": 152,
     "metadata": {},
     "output_type": "execute_result"
    },
    {
     "data": {
      "image/png": "[encoded data removed]",
      "text/plain": [
       "<matplotlib.figure.Figure at 0x7f80647b3250>"
      ]
     },
     "metadata": {
      "needs_background": "light"
     },
     "output_type": "display_data"
    }
   ],
   "source": [
    "misdem = subset_tst.loc[subset_tst['Felony/Misdemeanor']=='M']\n",
    "u_demo = pd.Series([8635./15946, 5943./15946, 128./15946, 289./15946, 257./15946, 694./15946],index=['W', 'H', 'B', 'A', 'I', 'O'])\n",
    "toplot = pd.concat([u_demo,(misdem['Race'].value_counts()/misdem.shape[0])],axis=1)\n",
    "toplot.columns = ['ukiah Population', 'Misdemeanor Arrests']\n",
    "ax = toplot.plot.bar()\n",
    "ax.yaxis.set_major_formatter(mtick.PercentFormatter(1.0))\n",
    "plt.ylabel('Percentage By Race')"
   ]
  },
  {
   "cell_type": "code",
   "execution_count": 154,
   "metadata": {},
   "outputs": [
    {
     "data": {
      "text/plain": [
       "Text(0,0.5,u'count')"
      ]
     },
     "execution_count": 154,
     "metadata": {},
     "output_type": "execute_result"
    },
    {
     "data": {
      "image/png": "[encoded data removed]",
      "text/plain": [
       "<matplotlib.figure.Figure at 0x7f8064592490>"
      ]
     },
     "metadata": {
      "needs_background": "light"
     },
     "output_type": "display_data"
    }
   ],
   "source": [
    "subset_tst.loc[subset_tst['Felony/Misdemeanor']=='M','Charge'].value_counts().head(25).plot.bar()\n",
    "plt.ylabel('count')"
   ]
  },
  {
   "cell_type": "code",
   "execution_count": 155,
   "metadata": {},
   "outputs": [
    {
     "data": {
      "text/plain": [
       "<matplotlib.axes._subplots.AxesSubplot at 0x7f8064538210>"
      ]
     },
     "execution_count": 155,
     "metadata": {},
     "output_type": "execute_result"
    },
    {
     "data": {
      "image/png": "[encoded data removed]",
      "text/plain": [
       "<matplotlib.figure.Figure at 0x7f80644ea810>"
      ]
     },
     "metadata": {
      "needs_background": "light"
     },
     "output_type": "display_data"
    }
   ],
   "source": [
    "subset_tst.loc[subset_tst['Felony/Misdemeanor']=='F','Charge'].value_counts().head(25).plot.bar()"
   ]
  },
  {
   "cell_type": "code",
   "execution_count": null,
   "metadata": {},
   "outputs": [],
   "source": []
  }
 ],
 "metadata": {
  "kernelspec": {
   "display_name": "Python 2",
   "language": "python",
   "name": "python2"
  },
  "language_info": {
   "codemirror_mode": {
    "name": "ipython",
    "version": 2
   },
   "file_extension": ".py",
   "mimetype": "text/x-python",
   "name": "python",
   "nbconvert_exporter": "python",
   "pygments_lexer": "ipython2",
   "version": "2.7.17"
  }
 },
 "nbformat": 4,
 "nbformat_minor": 2
}
